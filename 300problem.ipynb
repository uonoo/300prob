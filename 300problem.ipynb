{
  "nbformat": 4,
  "nbformat_minor": 0,
  "metadata": {
    "colab": {
      "name": "Untitled1.ipynb",
      "provenance": [],
      "authorship_tag": "ABX9TyOewYW9JncVlI/kxAHYAuqM",
      "include_colab_link": true
    },
    "kernelspec": {
      "name": "python3",
      "display_name": "Python 3"
    }
  },
  "cells": [
    {
      "cell_type": "markdown",
      "metadata": {
        "id": "view-in-github",
        "colab_type": "text"
      },
      "source": [
        "<a href=\"https://colab.research.google.com/github/uonoo/300prob/blob/main/300problem.ipynb\" target=\"_parent\"><img src=\"https://colab.research.google.com/assets/colab-badge.svg\" alt=\"Open In Colab\"/></a>"
      ]
    },
    {
      "cell_type": "markdown",
      "metadata": {
        "id": "yxOmLLBdApvE"
      },
      "source": [
        "# 1 ~ 10\n",
        "\n"
      ]
    },
    {
      "cell_type": "markdown",
      "metadata": {
        "id": "X3Ac6T3Z-UJ5"
      },
      "source": [
        "1. 화면에 Hello World 문자열을 출력하세요.\n",
        "2. 화면에 Mary's cosmetics을 출력하세요. (중간에 '가 있음에 주의하세요)\n",
        "3. 화면에 아래 문장을 출력하세요. (중간에 \"가 있음에 주의하세요.)\n",
        ": 신씨가 소리질렀다. \"도둑이야\".\n",
        "4. 화면에 \"C:\\Windows\"를 출력하세요.\n",
        "5. 다음 코드를 실행해보고 \\t와 \\n의 역할을 설명해보세요.\n",
        ": print(\"안녕하세요.\\n만나서\\t\\t반갑습니다.\")\n",
        "6. print 함수에 두 개의 단어를 입력한 예제입니다. 아래 코드의 출력 결과를 예상해봅시다.\n",
        ": print (\"오늘은\", \"일요일\")\n",
        "7. print() 함수를 사용하여 다음과 같이 출력하세요.\n",
        ": naver;kakao;sk;samsung\n",
        "8. print() 함수를 사용하여 다음과 같이 출력하세요.\n",
        ": naver/kakao/sk/samsung\n",
        "9. 다음 코드를 수정하여 줄바꿈이 없이 출력하세요. (힌트: end='') print 함수는 두 번 사용합니다. 세미콜론 (;)은 한줄에 여러 개의 명령을 작성하기 위해 사용합니다.\n",
        ": print(\"first\");print(\"second\")\n",
        "10. 5/3의 결과를 화면에 출력하세요."
      ]
    },
    {
      "cell_type": "code",
      "metadata": {
        "id": "CrzH7-B7A2qw"
      },
      "source": [
        ""
      ],
      "execution_count": null,
      "outputs": []
    },
    {
      "cell_type": "code",
      "metadata": {
        "id": "kTCgnWj--To7"
      },
      "source": [
        ""
      ],
      "execution_count": null,
      "outputs": []
    },
    {
      "cell_type": "code",
      "metadata": {
        "id": "tPeBZr6v-SKk"
      },
      "source": [
        ""
      ],
      "execution_count": null,
      "outputs": []
    }
  ]
}