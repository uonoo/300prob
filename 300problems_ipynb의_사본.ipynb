{
  "nbformat": 4,
  "nbformat_minor": 0,
  "metadata": {
    "colab": {
      "name": "300problems.ipynb의 사본",
      "provenance": [],
      "collapsed_sections": [],
      "authorship_tag": "ABX9TyOOYo2dGUVy29aXqlklo3HZ",
      "include_colab_link": true
    },
    "kernelspec": {
      "name": "python3",
      "display_name": "Python 3"
    }
  },
  "cells": [
    {
      "cell_type": "markdown",
      "metadata": {
        "id": "view-in-github",
        "colab_type": "text"
      },
      "source": [
        "<a href=\"https://colab.research.google.com/github/uonoo/300prob/blob/main/300problems_ipynb%EC%9D%98_%EC%82%AC%EB%B3%B8.ipynb\" target=\"_parent\"><img src=\"https://colab.research.google.com/assets/colab-badge.svg\" alt=\"Open In Colab\"/></a>"
      ]
    },
    {
      "cell_type": "code",
      "metadata": {
        "id": "NJOnQmbq3nIo",
        "outputId": "5728018a-43c8-4955-ebbf-1b5a304a9d88",
        "colab": {
          "base_uri": "https://localhost:8080/"
        }
      },
      "source": [
        "print(\"hello world\")\n",
        "print('hello world')"
      ],
      "execution_count": null,
      "outputs": [
        {
          "output_type": "stream",
          "text": [
            "hello world\n",
            "hello world\n"
          ],
          "name": "stdout"
        }
      ]
    },
    {
      "cell_type": "code",
      "metadata": {
        "id": "qjbjBAZOe9Yw",
        "outputId": "cf907a80-23dc-4dc9-fb87-6e0013db8507",
        "colab": {
          "base_uri": "https://localhost:8080/"
        }
      },
      "source": [
        "print(\"hello world\")\n",
        "print('hello world') #\"\", ''의 쓰임을 쓸대 주의해야 한다\n",
        "print(\"Mary's cosmetics\") #\"\", ''의 쓰임을 쓸대 주의해야 한다\n",
        "\n",
        "print('신씨가 소리질렀다. \"도둑이야\".')\n",
        "print(\"C:\\windows\")\n",
        "\n",
        "print(\"안녕하세요.\\n만나서\\t\\t반갑습니다.\")\n",
        "print(\"안녕하세요.\\n만나서\\t반갑습니다.\")\n",
        "print(\"오늘은\", \"일요일\")\n",
        "print(\"오늘은 일요일\")\n",
        "\n",
        "print(\"naver;kakao;sk;samsung\")\n",
        "print(\"naver\", \"kakao\", \"sk\", \"samsung\", sep = \";\")\n",
        "print(\"naver\", \"kakao\", \"sk\", \"samsung\", sep = \"/\")\n",
        "\n",
        "print(\"first\"); print(\"second\")\n",
        "print(\"first\", end=\"\"); print(\"second\")\n",
        "print(5/3)\n",
        "\n",
        "print(1/2)"
      ],
      "execution_count": 1,
      "outputs": [
        {
          "output_type": "stream",
          "text": [
            "hello world\n",
            "hello world\n",
            "Mary's cosmetics\n",
            "신씨가 소리질렀다. \"도둑이야\".\n",
            "C:\\windows\n",
            "안녕하세요.\n",
            "만나서\t\t반갑습니다.\n",
            "안녕하세요.\n",
            "만나서\t반갑습니다.\n",
            "오늘은 일요일\n",
            "오늘은 일요일\n",
            "naver;kakao;sk;samsung\n",
            "naver;kakao;sk;samsung\n",
            "naver/kakao/sk/samsung\n",
            "first\n",
            "second\n",
            "firstsecond\n",
            "1.6666666666666667\n",
            "0.5\n"
          ],
          "name": "stdout"
        }
      ]
    }
  ]
}