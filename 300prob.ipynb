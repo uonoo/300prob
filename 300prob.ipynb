{
  "nbformat": 4,
  "nbformat_minor": 0,
  "metadata": {
    "colab": {
      "name": "300prob.ipynb",
      "provenance": [],
      "collapsed_sections": [],
      "authorship_tag": "ABX9TyMEYRr4Q3VqR1QihQEeG4uk",
      "include_colab_link": true
    },
    "kernelspec": {
      "name": "python3",
      "display_name": "Python 3"
    }
  },
  "cells": [
    {
      "cell_type": "markdown",
      "metadata": {
        "id": "view-in-github",
        "colab_type": "text"
      },
      "source": [
        "<a href=\"https://colab.research.google.com/github/uonoo/300prob/blob/main/300prob.ipynb\" target=\"_parent\"><img src=\"https://colab.research.google.com/assets/colab-badge.svg\" alt=\"Open In Colab\"/></a>"
      ]
    },
    {
      "cell_type": "markdown",
      "metadata": {
        "id": "yxOmLLBdApvE"
      },
      "source": [
        "# 1 ~ 10\n",
        "\n"
      ]
    },
    {
      "cell_type": "markdown",
      "metadata": {
        "id": "X3Ac6T3Z-UJ5"
      },
      "source": [
        "1. 화면에 Hello World 문자열을 출력하세요.\n",
        "2. 화면에 Mary's cosmetics을 출력하세요. (중간에 '가 있음에 주의하세요)\n",
        "3. 화면에 아래 문장을 출력하세요. (중간에 \"가 있음에 주의하세요.)  \n",
        ": 신씨가 소리질렀다. \"도둑이야\".\n",
        "4. 화면에 \"C:\\Windows\"를 출력하세요.\n",
        "5. 다음 코드를 실행해보고 \\t와 \\n의 역할을 설명해보세요.  \n",
        ": print(\"안녕하세요.\\n만나서\\t\\t반갑습니다.\")\n",
        "6. print 함수에 두 개의 단어를 입력한 예제입니다. 아래 코드의 출력 결과를 예상해봅시다.  \n",
        ": print (\"오늘은\", \"일요일\")\n",
        "7. print() 함수를 사용하여 다음과 같이 출력하세요.  \n",
        ": naver;kakao;sk;samsung\n",
        "8. print() 함수를 사용하여 다음과 같이 출력하세요.  \n",
        ": naver/kakao/sk/samsung\n",
        "9. 다음 코드를 수정하여 줄바꿈이 없이 출력하세요. (힌트: end='') print 함수는 두 번 사용합니다. 세미콜론 (;)은 한줄에 여러 개의 명령을 작성하기 위해 사용합니다.  \n",
        ": print(\"first\");print(\"second\")\n",
        "10. 5/3의 결과를 화면에 출력하세요."
      ]
    },
    {
      "cell_type": "code",
      "metadata": {
        "id": "CrzH7-B7A2qw",
        "outputId": "c9043643-78f2-4f17-9d4f-6f01174f0417",
        "colab": {
          "base_uri": "https://localhost:8080/"
        }
      },
      "source": [
        "print(\"Hello World\")\n",
        "print('Hello World')\n",
        "print(\"Mary's cosmetics\")\n",
        "print(\"C:\\Windows\")\n",
        "print(\"안녕하세요.\\n만나서\\t\\t반갑습니다\") #\\n은 줄 넘기기, \\t는 탭키\n",
        "print(\"오늘은\", \"일요일\")\n",
        "print(\"naver\", \"kakao\", \"sk\", \"samsung\", sep = \";\")\n",
        "print(\"naver\", \"kakao\", \"sk\", \"samsung\", sep = \"/\")\n",
        "print(\"first\", end = \"\"); print(\"second\")\n",
        "print(5/3)"
      ],
      "execution_count": null,
      "outputs": [
        {
          "output_type": "stream",
          "text": [
            "Hello World\n",
            "Hello World\n",
            "Mary's cosmetics\n",
            "C:\\Windows\n",
            "안녕하세요.\n",
            "만나서\t\t반갑습니다\n",
            "오늘은 일요일\n",
            "naver;kakao;sk;samsung\n",
            "naver/kakao/sk/samsung\n",
            "firstsecond\n",
            "1.6666666666666667\n"
          ],
          "name": "stdout"
        }
      ]
    },
    {
      "cell_type": "markdown",
      "metadata": {
        "id": "npZaDg8zFfR3"
      },
      "source": [
        "#11 ~ 20"
      ]
    },
    {
      "cell_type": "markdown",
      "metadata": {
        "id": "ByesHBNMFiIh"
      },
      "source": [
        "11. 삼성전자라는 변수로 50,000원을 바인딩해보세요. 삼성전자 주식 10주를 보유하고 있을 때 총 평가금액을 출력하세요.\n",
        "12. 다음 표는 삼성전자의 일부 투자정보입니다. 변수를 사용해서 시가총액, 현재가, PER 등을 바인딩해보세요.  \n",
        "항목 값  \n",
        "시가총액\t298조  \n",
        "현재가\t50,000원  \n",
        "PER\t15.79\n",
        "13. 변수 s와 t에는 각각 문자열이 바인딩 되어있습니다.  \n",
        "s = \"hello\", t = \"python\"  \n",
        "두 변수를 이용하여 아래와 같이 출력해보세요.  \n",
        "실행 예: hello! python\n",
        "14. 아래 코드의 실행 결과를 예상해보세요.  \n",
        ": 2 + 2 * 3 \n",
        "15. type() 함수는 데이터 타입을 판별합니다. 변수 a에는 128 숫자가 바인딩돼 있어 type 함수가 int (정수)형임을 알려줍니다.  \n",
        ": a = 128  \n",
        ": print (type(a))  \n",
        "<class 'int'>\n",
        "아래 변수에 바인딩된 값의 타입을 판별해보세요.  \n",
        ": a = \"132\"\n",
        "16. 문자열 '720'를 정수형으로 변환해보세요.  \n",
        ": num_str = \"720\"\n",
        "17. 정수 100을 문자열 '100'으로 변환해보세요.  \n",
        ": num = 100\n",
        "18. 문자열 \"15.79\"를 실수(float) 타입으로 변환해보세요.\n",
        "19. year라는 변수가 문자열 타입의 연도를 바인딩하고 있습니다. 이를 정수로 변환한 후 최근 3년의 연도를 화면에 출력해보세요.  \n",
        ": year = \"2020\"\n",
        "20. 에이컨이 월 48,584원에 무이자 36개월의 조건으로 홈쇼핑에서 판매되고 있습니다. 총 금액은 계산한 후 이를 화면에 출력해보세요. (변수사용하기)"
      ]
    },
    {
      "cell_type": "code",
      "metadata": {
        "id": "kTCgnWj--To7",
        "outputId": "4255b6f7-0e6c-46cd-dd1b-7f20078b1d23",
        "colab": {
          "base_uri": "https://localhost:8080/"
        }
      },
      "source": [
        "삼성전자 = 50000 # 바인딩\n",
        "총평가금액 = 삼성전자 * 10 # 바인딩\n",
        "print(총평가금액)\n",
        "시가총액 = 298000000000000 # 바인딩\n",
        "현재가 = 50000 # 바인딩\n",
        "PER = 15.79 # 바인딩\n",
        "print(시가총액, type(시가총액))\n",
        "print(현재가, type(50000))\n",
        "print(PER, type(PER))\n",
        "s = \"hello\"\n",
        "t = \"python\" # 바인딩 할 때는 한 열에 하나씩\n",
        "print(s + \"!\", t) \n",
        "print(2 + 2 * 3) # 계산\n",
        "a = 128\n",
        "print(type(a)) # 타입 표현\n",
        "a = 132\n",
        "print(type(a))\n",
        "num_str = 720\n",
        "num_int = int(num_str) # 정수, 실수, 문자열 변환 int(내용)\n",
        "print(num_int, type(num_int))\n",
        "num = 100\n",
        "result = str(num)\n",
        "print(type(result))\n",
        "data = \"15.79\"\n",
        "data = float(data)\n",
        "print(data, type(data))\n",
        "year = \"2020\"\n",
        "print(int(year) - 3)\n",
        "print(int(year) - 2)\n",
        "print(int(year) - 1)\n",
        "aircon = 48584\n",
        "총금액 = aircon * 36\n",
        "print(총금액)"
      ],
      "execution_count": null,
      "outputs": [
        {
          "output_type": "stream",
          "text": [
            "500000\n",
            "298000000000000 <class 'int'>\n",
            "50000 <class 'int'>\n",
            "15.79 <class 'float'>\n",
            "hello! python\n",
            "8\n",
            "<class 'int'>\n",
            "<class 'int'>\n",
            "720 <class 'int'>\n",
            "<class 'str'>\n",
            "15.79 <class 'float'>\n",
            "2017\n",
            "2018\n",
            "2019\n",
            "1749024\n"
          ],
          "name": "stdout"
        }
      ]
    },
    {
      "cell_type": "markdown",
      "metadata": {
        "id": "xeAH_oB0Vlht"
      },
      "source": [
        "# 21 ~ 30"
      ]
    },
    {
      "cell_type": "markdown",
      "metadata": {
        "id": "ZOB07OjrSz1F"
      },
      "source": [
        "21. letters가 바인딩하는 문자열에서 첫번째와 세번째 문자를 출력하세요.  \n",
        "letters = 'python' (실행 예: p t)"
      ]
    },
    {
      "cell_type": "code",
      "metadata": {
        "id": "uPK-BsVETPvr",
        "outputId": "0388adca-d777-4f7b-fd91-bc1c65827fac",
        "colab": {
          "base_uri": "https://localhost:8080/"
        }
      },
      "source": [
        "lang = \"python\"\n",
        "print(lang[0], lang[2])"
      ],
      "execution_count": null,
      "outputs": [
        {
          "output_type": "stream",
          "text": [
            "p t\n"
          ],
          "name": "stdout"
        }
      ]
    },
    {
      "cell_type": "markdown",
      "metadata": {
        "id": "5uE1nR4ITb-S"
      },
      "source": [
        "22. 자동차 번호가 다음과 같을 때 뒤에 4자리만 출력하세요.  \n",
        ": license_plate = \"24가 2210\" (실행 예: 2210)"
      ]
    },
    {
      "cell_type": "code",
      "metadata": {
        "id": "hoZnVsb0TcTS",
        "outputId": "0f499396-5654-4493-fadc-fb17d9e57019",
        "colab": {
          "base_uri": "https://localhost:8080/"
        }
      },
      "source": [
        "license_plate = \"24가 2210\"\n",
        "print(license_plate[4:])\n",
        "print(license_plate[-4:])"
      ],
      "execution_count": null,
      "outputs": [
        {
          "output_type": "stream",
          "text": [
            "2210\n",
            "2210\n"
          ],
          "name": "stdout"
        }
      ]
    },
    {
      "cell_type": "markdown",
      "metadata": {
        "id": "S4y8D2nCbJJ9"
      },
      "source": [
        "23. 아래의 문자열에서 '홀' 만 출력하세요.  \n",
        ": string = \"홀짝홀짝홀짝\" (실행 예: 홀홀홀)"
      ]
    },
    {
      "cell_type": "code",
      "metadata": {
        "id": "AQYyiIDpbNh0",
        "outputId": "65608b3c-8740-483e-e172-c0a9e9c53981",
        "colab": {
          "base_uri": "https://localhost:8080/"
        }
      },
      "source": [
        "string = \"홀짝홀짝홀짝\"\n",
        "print(string[::2]) # 슬라이싱할 때 \"시작인덱스:끝인덱스:오프셋\"으로 사용할 수 있다"
      ],
      "execution_count": null,
      "outputs": [
        {
          "output_type": "stream",
          "text": [
            "홀홀홀\n"
          ],
          "name": "stdout"
        }
      ]
    },
    {
      "cell_type": "markdown",
      "metadata": {
        "id": "tI3BWxSnbNOG"
      },
      "source": [
        "24. 문자열을 거꾸로 뒤집어 출력하세요.  \n",
        ": string = \"PYTHON\" (실행 예: NOHTYP)"
      ]
    },
    {
      "cell_type": "code",
      "metadata": {
        "id": "2vrfJarUbtAH",
        "outputId": "ac8b281f-5c76-4520-c294-bd65be2c2ab1",
        "colab": {
          "base_uri": "https://localhost:8080/"
        }
      },
      "source": [
        "string = \"PYTHON\"\n",
        "print(string[::-1])"
      ],
      "execution_count": null,
      "outputs": [
        {
          "output_type": "stream",
          "text": [
            "NOHTYP\n"
          ],
          "name": "stdout"
        }
      ]
    },
    {
      "cell_type": "markdown",
      "metadata": {
        "id": "xjD7OVyTckS0"
      },
      "source": [
        "25. 아래의 전화번호에서 하이푼 ('-')을 제거하고 출력하세요.  \n",
        ": phone_number = \"010-1111-2222\" (실행 예: 010 1111 2222)"
      ]
    },
    {
      "cell_type": "code",
      "metadata": {
        "id": "zP_7VCbCckk6",
        "outputId": "3d9d6d84-c4e3-4309-8f2b-85e80557bed2",
        "colab": {
          "base_uri": "https://localhost:8080/"
        }
      },
      "source": [
        "phone_number = \"010-1111-2222\"\n",
        "phone_number1 = phone_number.replace(\"-\", \" \")\n",
        "print(phone_number1)"
      ],
      "execution_count": null,
      "outputs": [
        {
          "output_type": "stream",
          "text": [
            "010 1111 2222\n"
          ],
          "name": "stdout"
        }
      ]
    },
    {
      "cell_type": "markdown",
      "metadata": {
        "id": "GlXs35DEdLTC"
      },
      "source": [
        "26. 25번 문제의 전화번호를 아래와 같이 모두 붙여 출력하세요. (실행 예:01011112222)"
      ]
    },
    {
      "cell_type": "code",
      "metadata": {
        "id": "lV2C7IjzdLo6",
        "outputId": "101dfd5d-4249-4da8-fe1a-3ae014c517f2",
        "colab": {
          "base_uri": "https://localhost:8080/"
        }
      },
      "source": [
        "phone_number2 = phone_number.replace(\"-\", \"\")\n",
        "print(phone_number2)"
      ],
      "execution_count": null,
      "outputs": [
        {
          "output_type": "stream",
          "text": [
            "01011112222\n"
          ],
          "name": "stdout"
        }
      ]
    },
    {
      "cell_type": "markdown",
      "metadata": {
        "id": "ODbcRa5jdi-q"
      },
      "source": [
        "27. url 에 저장된 웹 페이지 주소에서 도메인을 출력하세요.  \n",
        ": url = \"http://sharebook.kr\" (실행 예: kr)"
      ]
    },
    {
      "cell_type": "code",
      "metadata": {
        "id": "B6hEXqGJdjKJ",
        "outputId": "bf8cceaa-ae76-4c52-e288-47e046572670",
        "colab": {
          "base_uri": "https://localhost:8080/"
        }
      },
      "source": [
        "url = \"http://sharebook.kr\"\n",
        "print(url[17:])\n",
        "print(url[-2:])\n",
        "url_split = url.split('.')\n",
        "print(url_split)\n",
        "print(url_split[1])\n",
        "url_split2 = url.split(':')\n",
        "print(url_split2)"
      ],
      "execution_count": 14,
      "outputs": [
        {
          "output_type": "stream",
          "text": [
            "kr\n",
            "kr\n",
            "['http://sharebook', 'kr']\n",
            "kr\n",
            "['http', '//sharebook.kr']\n"
          ],
          "name": "stdout"
        }
      ]
    },
    {
      "cell_type": "markdown",
      "metadata": {
        "id": "IHw6Ks9le7tR"
      },
      "source": [
        "28. 아래 코드의 실행 결과를 예상해보세요.  \n",
        ": lang = 'python'  \n",
        ": lang[0] = 'P'  \n",
        ": print(lang)"
      ]
    },
    {
      "cell_type": "code",
      "metadata": {
        "id": "quQVxTDie764",
        "outputId": "2a03a9a4-6de4-4ea8-d460-250f89f520bf",
        "colab": {
          "base_uri": "https://localhost:8080/"
        }
      },
      "source": [
        "lang = 'python'\n",
        "# lang[0] = P # lang의 0번째 위치는 p인데 P로 바꾸라고 명령하는건 실행되지 않는다. 문자열은 변경되지 않는다.\n",
        "print(lang[0])\n",
        "print(lang)"
      ],
      "execution_count": null,
      "outputs": [
        {
          "output_type": "stream",
          "text": [
            "p\n",
            "python\n"
          ],
          "name": "stdout"
        }
      ]
    },
    {
      "cell_type": "markdown",
      "metadata": {
        "id": "VD2krPMgfr39"
      },
      "source": [
        "29. 아래 문자열에서 소문자 'a'를 대문자 'A'로 변경하세요.  \n",
        ": string = 'abcdfe2a354a32a' (실행 예: Abcdfe2A354A32A)"
      ]
    },
    {
      "cell_type": "code",
      "metadata": {
        "id": "oEOy42LnfsDt",
        "outputId": "df84a08b-e805-492d-b94a-d0935220dfc4",
        "colab": {
          "base_uri": "https://localhost:8080/"
        }
      },
      "source": [
        "string = 'abcdfe2a354a32a'\n",
        "string1 = string.replace(\"a\", \"A\")\n",
        "print(string1)"
      ],
      "execution_count": null,
      "outputs": [
        {
          "output_type": "stream",
          "text": [
            "Abcdfe2A354A32A\n"
          ],
          "name": "stdout"
        }
      ]
    },
    {
      "cell_type": "markdown",
      "metadata": {
        "id": "GrNlqlv9gTdx"
      },
      "source": [
        "30. 아래 코드의 실행 결과를 예상해보세요.  \n",
        ": string = 'abcd'  \n",
        ": string.replace('b', 'B')  \n",
        ": print(string)"
      ]
    },
    {
      "cell_type": "code",
      "metadata": {
        "id": "MSOcqBt2gTtI",
        "outputId": "58c45111-bc26-4937-bd5f-20f797d21ad6",
        "colab": {
          "base_uri": "https://localhost:8080/"
        }
      },
      "source": [
        "string = 'abcd' # 자료형 문자열\n",
        "string.replace('b', 'B') # replace한다는 걸 새로운 항목에 바인딩 해주지 않았기 때문에 결과는 abcd로 그대로 출력된다.\n",
        "print(string)\n",
        "string1 = string.replace('b', 'B')\n",
        "print(string1)"
      ],
      "execution_count": null,
      "outputs": [
        {
          "output_type": "stream",
          "text": [
            "abcd\n",
            "aBcd\n"
          ],
          "name": "stdout"
        }
      ]
    },
    {
      "cell_type": "markdown",
      "metadata": {
        "id": "w_cMwpJNVr6g"
      },
      "source": [
        "# 31 ~ 40"
      ]
    },
    {
      "cell_type": "markdown",
      "metadata": {
        "id": "PR_rhY1Qj27S"
      },
      "source": [
        "31. 아래 코드의 실행 결과를 예상해보세요.  \n",
        ": a = \"3\", b = \"4\"  \n",
        ": print(a + b)"
      ]
    },
    {
      "cell_type": "code",
      "metadata": {
        "id": "4UurFLcXkFnS",
        "outputId": "c149a677-df04-4a92-9b9c-fa11a28f5d8e",
        "colab": {
          "base_uri": "https://localhost:8080/"
        }
      },
      "source": [
        "a = \"3\" # 문자열, \"\", ''는 문자열을 만드는 기호이다. 문자열은 고정이 되어버리면 변경불가\n",
        "b = \"4\"\n",
        "print(a + b)"
      ],
      "execution_count": 16,
      "outputs": [
        {
          "output_type": "stream",
          "text": [
            "34\n"
          ],
          "name": "stdout"
        }
      ]
    },
    {
      "cell_type": "markdown",
      "metadata": {
        "id": "0mz_lwWmntx1"
      },
      "source": [
        "32. 아래 코드의 실행 결과를 예상해보세요.  \n",
        ": print(\"Hi\" * 3)\n",
        "\n",
        "33. 화면에 '-'를 80개 출력하세요. (실행 예: --------------------------------------------------------------------------------)\n",
        "\n",
        "34. 변수에 다음과 같은 문자열이 바인딩되어 있습니다.  \n",
        ": t1 = 'python', t2 = 'java'  \n",
        "변수에 문자열 더하기와 문자열 곱하기를 사용해서 아래와 같이 출력해보세요.  \n",
        "(실행 예: python java python java python java python java)"
      ]
    },
    {
      "cell_type": "code",
      "metadata": {
        "id": "i5U-fLjcnuF7",
        "outputId": "674e3b1d-e9f6-4f3d-cd57-9bea698d546d",
        "colab": {
          "base_uri": "https://localhost:8080/"
        }
      },
      "source": [
        "print(\"Hi\" * 3)\n",
        "print(\"-\" * 80)\n",
        "t1 = 'python'\n",
        "t2 = 'java'\n",
        "t3 = t1 + ' ' + t2 + ' '\n",
        "print((t1 + ' ' + t2 + ' ') * 4) # 방법은 다양하게 있고 최대한 효율적으로 사용할 수 있도록 하자, 좀 더 쉽게 간단한 코드를 이용해서\n",
        "print(t3 * 4)\n",
        "print(t1, t2, t1, t2, t1, t2, t1, t2, sep = ' ')"
      ],
      "execution_count": null,
      "outputs": [
        {
          "output_type": "stream",
          "text": [
            "HiHiHi\n",
            "--------------------------------------------------------------------------------\n",
            "python java python java python java python java \n",
            "python java python java python java python java \n",
            "python java python java python java python java\n"
          ],
          "name": "stdout"
        }
      ]
    },
    {
      "cell_type": "markdown",
      "metadata": {
        "id": "wYb_lUpFrtfN"
      },
      "source": [
        "35. 변수에 다음과 같이 문자열과 정수가 바인딩되어 있을 때 % formatting을 사용해서 다음과 같이 출력해보세요.  \n",
        "name1 = \"김민수\"  \n",
        "age1 = 10  \n",
        "name2 = \"이철희\"  \n",
        "age2 = 13  \n",
        "이름: 김민수 나이: 10  \n",
        "이름: 이철희 나이: 13"
      ]
    },
    {
      "cell_type": "code",
      "metadata": {
        "id": "xAV-HKMartuE",
        "outputId": "a83a9750-30f3-4114-85e1-9d47c6d48358",
        "colab": {
          "base_uri": "https://localhost:8080/"
        }
      },
      "source": [
        "name1 = '김민수'\n",
        "age1= 10\n",
        "name2 = '이철희'\n",
        "age2 = 13\n",
        "print(\"이름: {0} 나이: {1}\".format(name1, age1))\n",
        "print(\"이름: %s 나이: %s\" % (name1, age1)) # %s는 문자열, %d는 정수를 불러온다\n",
        "print(\"이름: %s, 나이: %s\" % (name2, age2))\n",
        "print(\"I ate %s apples yesterday.\" % (5))"
      ],
      "execution_count": null,
      "outputs": [
        {
          "output_type": "stream",
          "text": [
            "이름: 김민수 나이: 10\n",
            "이름: 김민수 나이: 10\n",
            "이름: 이철희, 나이: 13\n",
            "I ate 5 apples yesterday.\n"
          ],
          "name": "stdout"
        }
      ]
    },
    {
      "cell_type": "markdown",
      "metadata": {
        "id": "MIxnwaIUuH9G"
      },
      "source": [
        "36. 문자열의 format( ) 메서드를 사용해서 035번 문제를 다시 풀어보세요."
      ]
    },
    {
      "cell_type": "code",
      "metadata": {
        "id": "0o1IDs6iuIRW",
        "outputId": "17b4f8f7-b14b-448a-ef77-bd7891093b19",
        "colab": {
          "base_uri": "https://localhost:8080/"
        }
      },
      "source": [
        "print(\"이름: {0} 나이: {1}\".format(name1, age1))\n",
        "print(\"이름: {0} 나이: {1}\".format(name2, age2))"
      ],
      "execution_count": null,
      "outputs": [
        {
          "output_type": "stream",
          "text": [
            "이름: 김민수 나이: 10\n",
            "이름: 이철희 나이: 13\n"
          ],
          "name": "stdout"
        }
      ]
    },
    {
      "cell_type": "markdown",
      "metadata": {
        "id": "BO6C6jd8uImY"
      },
      "source": [
        "37. 이썬 3.6부터 지원하는 f-string을 사용해서 035번 문제를 다시 풀어보세요."
      ]
    },
    {
      "cell_type": "code",
      "metadata": {
        "id": "mC0QMWXUuI82",
        "outputId": "8556d4f5-a4b5-4780-e45b-acc5ad6a1e52",
        "colab": {
          "base_uri": "https://localhost:8080/"
        }
      },
      "source": [
        "print(f\"이름:{name1} 나이:{age1}\")"
      ],
      "execution_count": null,
      "outputs": [
        {
          "output_type": "stream",
          "text": [
            "이름:김민수 나이:10\n"
          ],
          "name": "stdout"
        }
      ]
    },
    {
      "cell_type": "markdown",
      "metadata": {
        "id": "5pnzCVUuuJKO"
      },
      "source": [
        "38. 삼성전자의 상장주식수가 다음과 같습니다. 컴마를 제거한 후 이를 정수 타입으로 변환해보세요.  \n",
        ": 상장주식수 = \"5,969,782,550\""
      ]
    },
    {
      "cell_type": "code",
      "metadata": {
        "id": "lxtzQSI7uJv-",
        "outputId": "7af81e47-a3f7-48c4-9fd4-e7e50ac0241d",
        "colab": {
          "base_uri": "https://localhost:8080/"
        }
      },
      "source": [
        "상장주식수 = \"5,969,782,550\"\n",
        "주식수 = 상장주식수.replace(\",\", \"\")\n",
        "print(주식수)\n",
        "주식수1 = int(주식수)\n",
        "print(type(주식수1))"
      ],
      "execution_count": null,
      "outputs": [
        {
          "output_type": "stream",
          "text": [
            "5969782550\n",
            "<class 'int'>\n"
          ],
          "name": "stdout"
        }
      ]
    },
    {
      "cell_type": "markdown",
      "metadata": {
        "id": "HUpFc4v6wOIw"
      },
      "source": [
        "39. 다음과 같은 문자열에서 '2020/03'만 출력하세요.  \n",
        "분기 = \"2020/03(E) (IFRS연결)\""
      ]
    },
    {
      "cell_type": "code",
      "metadata": {
        "id": "DTWkT7J4v3AV",
        "outputId": "9684fa49-d9b2-49c8-b213-f36039f88899",
        "colab": {
          "base_uri": "https://localhost:8080/"
        }
      },
      "source": [
        "분기 = \"2020/03(E) (IFRS연결)\"\n",
        "print(분기[:7]) # 복잡하게 생각하지 말자"
      ],
      "execution_count": null,
      "outputs": [
        {
          "output_type": "stream",
          "text": [
            "2020/03\n"
          ],
          "name": "stdout"
        }
      ]
    },
    {
      "cell_type": "markdown",
      "metadata": {
        "id": "YOm11n8Yw0zK"
      },
      "source": [
        "40. 문자열의 좌우의 공백이 있을 때 이를 제거해보세요.  \n",
        "data = \"   삼성전자    \""
      ]
    },
    {
      "cell_type": "code",
      "metadata": {
        "id": "XQoCOoucw3pR",
        "outputId": "539ecf84-4174-4d8b-ca83-01a79620e06d",
        "colab": {
          "base_uri": "https://localhost:8080/"
        }
      },
      "source": [
        "data = \"   삼성전자   \"\n",
        "print(data)\n",
        "data1 = data.strip()\n",
        "print(data1)"
      ],
      "execution_count": null,
      "outputs": [
        {
          "output_type": "stream",
          "text": [
            "   삼성전자   \n",
            "삼성전자\n"
          ],
          "name": "stdout"
        }
      ]
    },
    {
      "cell_type": "markdown",
      "metadata": {
        "id": "8mNFuOYxVurm"
      },
      "source": [
        "# 41 ~ 50"
      ]
    },
    {
      "cell_type": "markdown",
      "metadata": {
        "id": "J_12MGlUw3YB"
      },
      "source": [
        "41. 다음과 같은 문자열이 있을 때 이를 대문자 BTC_KRW로 변경하세요.  \n",
        "ticker = \"btc_krw\""
      ]
    },
    {
      "cell_type": "code",
      "metadata": {
        "id": "Ylj8Tn8qjjYp",
        "outputId": "3295f978-ee29-4642-c9ab-917577e3c653",
        "colab": {
          "base_uri": "https://localhost:8080/"
        }
      },
      "source": [
        "ticker = \"btc_krw\"\n",
        "ticker1 = ticker.upper() # 대문자 변환\n",
        "print(ticker1)"
      ],
      "execution_count": null,
      "outputs": [
        {
          "output_type": "stream",
          "text": [
            "BTC_KRW\n"
          ],
          "name": "stdout"
        }
      ]
    },
    {
      "cell_type": "markdown",
      "metadata": {
        "id": "T9ATxsBdw4XI"
      },
      "source": [
        "42. 다음과 같은 문자열이 있을 때 이를 소문자 btc_krw로 변경하세요.  \n",
        "ticker = \"BTC_KRW\""
      ]
    },
    {
      "cell_type": "code",
      "metadata": {
        "id": "cPY0WWy2kG4b",
        "outputId": "b935b56e-2721-461d-ce9f-13bf4838a9cb",
        "colab": {
          "base_uri": "https://localhost:8080/"
        }
      },
      "source": [
        "ticker2 = \"BTC_KRW\" \n",
        "ticker3 = ticker2.lower() # 소문자 변환\n",
        "print(ticker3)"
      ],
      "execution_count": null,
      "outputs": [
        {
          "output_type": "stream",
          "text": [
            "btc_krw\n"
          ],
          "name": "stdout"
        }
      ]
    },
    {
      "cell_type": "markdown",
      "metadata": {
        "id": "OvQqLSaww43E"
      },
      "source": [
        "43. 문자열 'hello'가 있을 때 이를 'Hello'로 변경해보세요."
      ]
    },
    {
      "cell_type": "code",
      "metadata": {
        "id": "1f5HZ4LQaLtH",
        "outputId": "c3b07610-5df9-44af-c6be-304afc321ce6",
        "colab": {
          "base_uri": "https://localhost:8080/"
        }
      },
      "source": [
        "he = \"hello\"\n",
        "he1 = he.capitalize()\n",
        "print(he1)"
      ],
      "execution_count": 1,
      "outputs": [
        {
          "output_type": "stream",
          "text": [
            "Hello\n"
          ],
          "name": "stdout"
        }
      ]
    },
    {
      "cell_type": "markdown",
      "metadata": {
        "id": "FXtewRL3w4-s"
      },
      "source": [
        "44. 파일 이름이 문자열로 저장되어 있을 때 endswith 메서드를 사용해서 파일 이름이 'xlsx'로 끝나는지 확인해보세요.  \n",
        "file_name = \"보고서.xlsx\""
      ]
    },
    {
      "cell_type": "code",
      "metadata": {
        "id": "w-Nm-b7sjU_4",
        "outputId": "d53574af-da83-4eaf-813f-d437f52c04c1",
        "colab": {
          "base_uri": "https://localhost:8080/"
        }
      },
      "source": [
        "file_name = \"보고서.xlsx\" # 문장 마지막이 어떻게 되는가 확인하기 위한 방법\n",
        "file_name.endswith(\"xlsx\")"
      ],
      "execution_count": 12,
      "outputs": [
        {
          "output_type": "execute_result",
          "data": {
            "text/plain": [
              "True"
            ]
          },
          "metadata": {
            "tags": []
          },
          "execution_count": 12
        }
      ]
    },
    {
      "cell_type": "markdown",
      "metadata": {
        "id": "GEaMOzPJw5EY"
      },
      "source": [
        "45. 파일 이름이 문자열로 저장되어 있을 때 endswith 메서드를 사용해서 파일 이름이 'xlsx' 또는 'xls'로 끝나는지 확인해보세요.  \n",
        "file_name = \"보고서.xlsx\""
      ]
    },
    {
      "cell_type": "code",
      "metadata": {
        "id": "01Cfxt9fjnwg",
        "outputId": "c76171fe-38ce-4b07-ae95-f97e7eea0ac4",
        "colab": {
          "base_uri": "https://localhost:8080/"
        }
      },
      "source": [
        "file_name.endswith((\"xlsx\" , \"xls\")) # 확인을 할 때 ()를 두번 사용해야 한다."
      ],
      "execution_count": 5,
      "outputs": [
        {
          "output_type": "execute_result",
          "data": {
            "text/plain": [
              "True"
            ]
          },
          "metadata": {
            "tags": []
          },
          "execution_count": 5
        }
      ]
    },
    {
      "cell_type": "markdown",
      "metadata": {
        "id": "VZv-jZffw5Jw"
      },
      "source": [
        "46. 파일 이름이 문자열로 저장되어 있을 때 startswith 메서드를 사용해서 파일 이름이 '2020'로 시작하는지 확인해보세요.  \n",
        "file_name = \"2020_보고서.xlsx\""
      ]
    },
    {
      "cell_type": "code",
      "metadata": {
        "id": "lZr4rGnTlZJj",
        "outputId": "7cf94540-668e-454b-e188-628a4bf6b46c",
        "colab": {
          "base_uri": "https://localhost:8080/"
        }
      },
      "source": [
        "file_name1 = \"2020_보고서.xlsx\"\n",
        "file_name1.startswith(\"2020\")"
      ],
      "execution_count": 13,
      "outputs": [
        {
          "output_type": "execute_result",
          "data": {
            "text/plain": [
              "True"
            ]
          },
          "metadata": {
            "tags": []
          },
          "execution_count": 13
        }
      ]
    },
    {
      "cell_type": "markdown",
      "metadata": {
        "id": "ttw_mDV5w5Q7"
      },
      "source": [
        "47. 다음과 같은 문자열이 있을 때 공백을 기준으로 문자열을 나눠보세요.  \n",
        "a = \"hello world\""
      ]
    },
    {
      "cell_type": "code",
      "metadata": {
        "id": "dHBqJNXcmBYK",
        "outputId": "f3400593-4438-499e-b2f9-c851fc28593f",
        "colab": {
          "base_uri": "https://localhost:8080/"
        }
      },
      "source": [
        "a = \"hello world\"\n",
        "print(a)\n",
        "print(a[5])\n",
        "# a.split(\" \") # 문자열을 분리해준다\n",
        "b = a.split(\" \") # 공백을 기준으로 문자열로 바인딩한다\n",
        "print(b)\n",
        "print(b[1])\n",
        "print(b[1][4]) # 문자열 안에서 또다른 인덱스를 확인 할 때 이렇게 사용"
      ],
      "execution_count": 31,
      "outputs": [
        {
          "output_type": "stream",
          "text": [
            "hello world\n",
            " \n",
            "['hello', 'world']\n",
            "world\n",
            "d\n"
          ],
          "name": "stdout"
        }
      ]
    },
    {
      "cell_type": "markdown",
      "metadata": {
        "id": "zDBFICJRw5VH"
      },
      "source": [
        "48. 다음과 같이 문자열이 있을 때 btc와 krw로 나눠보세요.  \n",
        "ticker = \"btc_krw\""
      ]
    },
    {
      "cell_type": "code",
      "metadata": {
        "id": "lojL-unBnpDY",
        "outputId": "086a2548-1c0e-42a0-c690-5e0e111df37a",
        "colab": {
          "base_uri": "https://localhost:8080/"
        }
      },
      "source": [
        "ticker = \"btc_krw\"\n",
        "ticker.split(\"_\") # 아무런 의미가 없는 행이 되어버린다. 28, 30번과 동일한 사유이다.\n",
        "print(ticker.split(\"_\")) # 이렇게 바인딩을 해줘도 되나 제목이 길어지게 되고 일회성이 되어버리므로 5행의 바인딩으로 하는것이 좋다.\n",
        "print(ticker)\n",
        "ticker1 = ticker.split(\"_\")\n",
        "print(ticker1)"
      ],
      "execution_count": 38,
      "outputs": [
        {
          "output_type": "stream",
          "text": [
            "['btc', 'krw']\n",
            "btc_krw\n",
            "['btc', 'krw']\n"
          ],
          "name": "stdout"
        }
      ]
    },
    {
      "cell_type": "markdown",
      "metadata": {
        "id": "G4Z9iq1Iw5N4"
      },
      "source": [
        "49. 다음과 같이 날짜를 표현하는 문자열이 있을 때 연도, 월, 일로 나눠보세요.  \n",
        "date = \"2020-05-01\""
      ]
    },
    {
      "cell_type": "code",
      "metadata": {
        "id": "R_48I0rspB7W",
        "outputId": "3df391f1-a9d8-494c-9a69-8b1a505b8a7e",
        "colab": {
          "base_uri": "https://localhost:8080/"
        }
      },
      "source": [
        "date = \"2020-05-01\"\n",
        "print(date.split(\"-\"))\n",
        "date1 = date.split(\"-\")\n",
        "print(date1)"
      ],
      "execution_count": 37,
      "outputs": [
        {
          "output_type": "stream",
          "text": [
            "['2020', '05', '01']\n",
            "['2020', '05', '01']\n"
          ],
          "name": "stdout"
        }
      ]
    },
    {
      "cell_type": "markdown",
      "metadata": {
        "id": "RFQBjw_ow5Gh"
      },
      "source": [
        "50. 문자열의 오른쪽에 공백이 있을 때 이를 제거해보세요.  \n",
        "data = \"039490     \""
      ]
    },
    {
      "cell_type": "code",
      "metadata": {
        "id": "sbpVCVCXpmiZ",
        "outputId": "5933a416-d6d2-471b-f977-ef45e52ca88f",
        "colab": {
          "base_uri": "https://localhost:8080/"
        }
      },
      "source": [
        "data = \"039490   \"\n",
        "print(data)\n",
        "data1 = data.rstrip()\n",
        "print(data1)"
      ],
      "execution_count": 41,
      "outputs": [
        {
          "output_type": "stream",
          "text": [
            "039490   \n",
            "039490\n"
          ],
          "name": "stdout"
        }
      ]
    },
    {
      "cell_type": "markdown",
      "metadata": {
        "id": "gPEhZsacVxLP"
      },
      "source": [
        "# 51 ~ 60"
      ]
    },
    {
      "cell_type": "markdown",
      "metadata": {
        "id": "a-Lwv6kQw5Bl"
      },
      "source": [
        "51. 2016년 11월 영화 예매 순위 기준 top3는 다음과 같습니다. 영화 제목을 movie_rank 이름의 리스트에 저장해보세요. (순위 정보는 저장하지 않습니다.)  \n",
        "순위\t영화  \n",
        "1\t닥터 스트레인지  \n",
        "2\t스플릿  \n",
        "3\t럭키"
      ]
    },
    {
      "cell_type": "code",
      "metadata": {
        "id": "UsZGgLQUViYf",
        "outputId": "8ae9f10b-f110-40b7-8d31-5fe7de588948",
        "colab": {
          "base_uri": "https://localhost:8080/"
        }
      },
      "source": [
        "movie_rank = [\"닥터 스트레인지\", \"스플릿\", \"럭키\"]\n",
        "print(movie_rank)"
      ],
      "execution_count": 7,
      "outputs": [
        {
          "output_type": "stream",
          "text": [
            "['닥터 스트레인지', '스플릿', '럭키']\n"
          ],
          "name": "stdout"
        }
      ]
    },
    {
      "cell_type": "markdown",
      "metadata": {
        "id": "fQDBpxGcw475"
      },
      "source": [
        "52. 51의 movie_rank 리스트에 \"배트맨\"을 추가하라."
      ]
    },
    {
      "cell_type": "code",
      "metadata": {
        "id": "2GPqXhLgWILO",
        "outputId": "1c4144f6-59ad-4f53-fbf5-25bd6476d11c",
        "colab": {
          "base_uri": "https://localhost:8080/"
        }
      },
      "source": [
        "movie_rank.append(\"배트맨\") # 리스트형 자료 추가는 append명령어를 사용, 따로 바인딩 없이 추가됨\n",
        "print(movie_rank)"
      ],
      "execution_count": 8,
      "outputs": [
        {
          "output_type": "stream",
          "text": [
            "['닥터 스트레인지', '스플릿', '럭키', '배트맨']\n"
          ],
          "name": "stdout"
        }
      ]
    },
    {
      "cell_type": "markdown",
      "metadata": {
        "id": "deAdy5vJw4cD"
      },
      "source": [
        ""
      ]
    },
    {
      "cell_type": "markdown",
      "metadata": {
        "id": "-CmR2Y66w4Zh"
      },
      "source": [
        ""
      ]
    },
    {
      "cell_type": "markdown",
      "metadata": {
        "id": "xtiMhYyMw4Um"
      },
      "source": [
        ""
      ]
    }
  ]
}