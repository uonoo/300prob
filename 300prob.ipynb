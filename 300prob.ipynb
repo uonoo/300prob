{
  "nbformat": 4,
  "nbformat_minor": 0,
  "metadata": {
    "colab": {
      "name": "300prob.ipynb",
      "provenance": [],
      "collapsed_sections": [],
      "authorship_tag": "ABX9TyMk921DMu6635QsPmS8kmdX",
      "include_colab_link": true
    },
    "kernelspec": {
      "name": "python3",
      "display_name": "Python 3"
    }
  },
  "cells": [
    {
      "cell_type": "markdown",
      "metadata": {
        "id": "view-in-github",
        "colab_type": "text"
      },
      "source": [
        "<a href=\"https://colab.research.google.com/github/uonoo/300prob/blob/main/300prob.ipynb\" target=\"_parent\"><img src=\"https://colab.research.google.com/assets/colab-badge.svg\" alt=\"Open In Colab\"/></a>"
      ]
    },
    {
      "cell_type": "markdown",
      "metadata": {
        "id": "yxOmLLBdApvE"
      },
      "source": [
        "# 1 ~ 10\n",
        "\n"
      ]
    },
    {
      "cell_type": "markdown",
      "metadata": {
        "id": "X3Ac6T3Z-UJ5"
      },
      "source": [
        "1. 화면에 Hello World 문자열을 출력하세요.\n",
        "2. 화면에 Mary's cosmetics을 출력하세요. (중간에 '가 있음에 주의하세요)\n",
        "3. 화면에 아래 문장을 출력하세요. (중간에 \"가 있음에 주의하세요.)  \n",
        ": 신씨가 소리질렀다. \"도둑이야\".\n",
        "4. 화면에 \"C:\\Windows\"를 출력하세요.\n",
        "5. 다음 코드를 실행해보고 \\t와 \\n의 역할을 설명해보세요.  \n",
        ": print(\"안녕하세요.\\n만나서\\t\\t반갑습니다.\")\n",
        "6. print 함수에 두 개의 단어를 입력한 예제입니다. 아래 코드의 출력 결과를 예상해봅시다.  \n",
        ": print (\"오늘은\", \"일요일\")\n",
        "7. print() 함수를 사용하여 다음과 같이 출력하세요.  \n",
        ": naver;kakao;sk;samsung\n",
        "8. print() 함수를 사용하여 다음과 같이 출력하세요.  \n",
        ": naver/kakao/sk/samsung\n",
        "9. 다음 코드를 수정하여 줄바꿈이 없이 출력하세요. (힌트: end='') print 함수는 두 번 사용합니다. 세미콜론 (;)은 한줄에 여러 개의 명령을 작성하기 위해 사용합니다.  \n",
        ": print(\"first\");print(\"second\")\n",
        "10. 5/3의 결과를 화면에 출력하세요."
      ]
    },
    {
      "cell_type": "code",
      "metadata": {
        "id": "CrzH7-B7A2qw",
        "outputId": "c9043643-78f2-4f17-9d4f-6f01174f0417",
        "colab": {
          "base_uri": "https://localhost:8080/"
        }
      },
      "source": [
        "print(\"Hello World\")\n",
        "print('Hello World')\n",
        "print(\"Mary's cosmetics\")\n",
        "print(\"C:\\Windows\")\n",
        "print(\"안녕하세요.\\n만나서\\t\\t반갑습니다\") #\\n은 줄 넘기기, \\t는 탭키\n",
        "print(\"오늘은\", \"일요일\")\n",
        "print(\"naver\", \"kakao\", \"sk\", \"samsung\", sep = \";\")\n",
        "print(\"naver\", \"kakao\", \"sk\", \"samsung\", sep = \"/\")\n",
        "print(\"first\", end = \"\"); print(\"second\")\n",
        "print(5/3)"
      ],
      "execution_count": 50,
      "outputs": [
        {
          "output_type": "stream",
          "text": [
            "Hello World\n",
            "Hello World\n",
            "Mary's cosmetics\n",
            "C:\\Windows\n",
            "안녕하세요.\n",
            "만나서\t\t반갑습니다\n",
            "오늘은 일요일\n",
            "naver;kakao;sk;samsung\n",
            "naver/kakao/sk/samsung\n",
            "firstsecond\n",
            "1.6666666666666667\n"
          ],
          "name": "stdout"
        }
      ]
    },
    {
      "cell_type": "markdown",
      "metadata": {
        "id": "npZaDg8zFfR3"
      },
      "source": [
        "#11 ~ 20"
      ]
    },
    {
      "cell_type": "markdown",
      "metadata": {
        "id": "ByesHBNMFiIh"
      },
      "source": [
        "11. 삼성전자라는 변수로 50,000원을 바인딩해보세요. 삼성전자 주식 10주를 보유하고 있을 때 총 평가금액을 출력하세요.\n",
        "12. 다음 표는 삼성전자의 일부 투자정보입니다. 변수를 사용해서 시가총액, 현재가, PER 등을 바인딩해보세요.  \n",
        "항목 값  \n",
        "시가총액\t298조  \n",
        "현재가\t50,000원  \n",
        "PER\t15.79\n",
        "13. 변수 s와 t에는 각각 문자열이 바인딩 되어있습니다.  \n",
        "s = \"hello\", t = \"python\"  \n",
        "두 변수를 이용하여 아래와 같이 출력해보세요.  \n",
        "실행 예: hello! python\n",
        "14. 아래 코드의 실행 결과를 예상해보세요.  \n",
        ": 2 + 2 * 3 \n",
        "15. type() 함수는 데이터 타입을 판별합니다. 변수 a에는 128 숫자가 바인딩돼 있어 type 함수가 int (정수)형임을 알려줍니다.  \n",
        ": a = 128  \n",
        ": print (type(a))  \n",
        "<class 'int'>\n",
        "아래 변수에 바인딩된 값의 타입을 판별해보세요.  \n",
        ": a = \"132\"\n",
        "16. 문자열 '720'를 정수형으로 변환해보세요.  \n",
        ": num_str = \"720\"\n",
        "17. 정수 100을 문자열 '100'으로 변환해보세요.  \n",
        ": num = 100\n",
        "18. 문자열 \"15.79\"를 실수(float) 타입으로 변환해보세요.\n",
        "19. year라는 변수가 문자열 타입의 연도를 바인딩하고 있습니다. 이를 정수로 변환한 후 최근 3년의 연도를 화면에 출력해보세요.  \n",
        ": year = \"2020\"\n",
        "20. 에이컨이 월 48,584원에 무이자 36개월의 조건으로 홈쇼핑에서 판매되고 있습니다. 총 금액은 계산한 후 이를 화면에 출력해보세요. (변수사용하기)"
      ]
    },
    {
      "cell_type": "code",
      "metadata": {
        "id": "kTCgnWj--To7",
        "outputId": "4255b6f7-0e6c-46cd-dd1b-7f20078b1d23",
        "colab": {
          "base_uri": "https://localhost:8080/"
        }
      },
      "source": [
        "삼성전자 = 50000 # 바인딩\n",
        "총평가금액 = 삼성전자 * 10 # 바인딩\n",
        "print(총평가금액)\n",
        "시가총액 = 298000000000000 # 바인딩\n",
        "현재가 = 50000 # 바인딩\n",
        "PER = 15.79 # 바인딩\n",
        "print(시가총액, type(시가총액))\n",
        "print(현재가, type(50000))\n",
        "print(PER, type(PER))\n",
        "s = \"hello\"\n",
        "t = \"python\" # 바인딩 할 때는 한 열에 하나씩\n",
        "print(s + \"!\", t) \n",
        "print(2 + 2 * 3) # 계산\n",
        "a = 128\n",
        "print(type(a)) # 타입 표현\n",
        "a = 132\n",
        "print(type(a))\n",
        "num_str = 720\n",
        "num_int = int(num_str) # 정수, 실수, 문자열 변환 int(내용)\n",
        "print(num_int, type(num_int))\n",
        "num = 100\n",
        "result = str(num)\n",
        "print(type(result))\n",
        "data = \"15.79\"\n",
        "data = float(data)\n",
        "print(data, type(data))\n",
        "year = \"2020\"\n",
        "print(int(year) - 3)\n",
        "print(int(year) - 2)\n",
        "print(int(year) - 1)\n",
        "aircon = 48584\n",
        "총금액 = aircon * 36\n",
        "print(총금액)"
      ],
      "execution_count": 38,
      "outputs": [
        {
          "output_type": "stream",
          "text": [
            "500000\n",
            "298000000000000 <class 'int'>\n",
            "50000 <class 'int'>\n",
            "15.79 <class 'float'>\n",
            "hello! python\n",
            "8\n",
            "<class 'int'>\n",
            "<class 'int'>\n",
            "720 <class 'int'>\n",
            "<class 'str'>\n",
            "15.79 <class 'float'>\n",
            "2017\n",
            "2018\n",
            "2019\n",
            "1749024\n"
          ],
          "name": "stdout"
        }
      ]
    },
    {
      "cell_type": "markdown",
      "metadata": {
        "id": "ZOB07OjrSz1F"
      },
      "source": [
        "21. letters가 바인딩하는 문자열에서 첫번째와 세번째 문자를 출력하세요.  \n",
        "letters = 'python'  \n",
        "실행 예\n",
        "p t"
      ]
    },
    {
      "cell_type": "code",
      "metadata": {
        "id": "uPK-BsVETPvr",
        "outputId": "0388adca-d777-4f7b-fd91-bc1c65827fac",
        "colab": {
          "base_uri": "https://localhost:8080/"
        }
      },
      "source": [
        "lang = \"python\"\n",
        "print(lang[0], lang[2])"
      ],
      "execution_count": 39,
      "outputs": [
        {
          "output_type": "stream",
          "text": [
            "p t\n"
          ],
          "name": "stdout"
        }
      ]
    },
    {
      "cell_type": "markdown",
      "metadata": {
        "id": "5uE1nR4ITb-S"
      },
      "source": [
        "22. 자동차 번호가 다음과 같을 때 뒤에 4자리만 출력하세요.  \n",
        ": license_plate = \"24가 2210\" (실행 예: 2210)"
      ]
    },
    {
      "cell_type": "code",
      "metadata": {
        "id": "hoZnVsb0TcTS",
        "outputId": "0f499396-5654-4493-fadc-fb17d9e57019",
        "colab": {
          "base_uri": "https://localhost:8080/"
        }
      },
      "source": [
        "license_plate = \"24가 2210\"\n",
        "print(license_plate[4:])\n",
        "print(license_plate[-4:])"
      ],
      "execution_count": 47,
      "outputs": [
        {
          "output_type": "stream",
          "text": [
            "2210\n",
            "2210\n"
          ],
          "name": "stdout"
        }
      ]
    },
    {
      "cell_type": "markdown",
      "metadata": {
        "id": "S4y8D2nCbJJ9"
      },
      "source": [
        "23. 아래의 문자열에서 '홀' 만 출력하세요.  \n",
        ": string = \"홀짝홀짝홀짝\" (실행 예: 홀홀홀)"
      ]
    },
    {
      "cell_type": "code",
      "metadata": {
        "id": "AQYyiIDpbNh0",
        "outputId": "65608b3c-8740-483e-e172-c0a9e9c53981",
        "colab": {
          "base_uri": "https://localhost:8080/"
        }
      },
      "source": [
        "string = \"홀짝홀짝홀짝\"\n",
        "print(string[::2]) # 슬라이싱할 때 \"시작인덱스:끝인덱스:오프셋\"으로 사용할 수 있다"
      ],
      "execution_count": 54,
      "outputs": [
        {
          "output_type": "stream",
          "text": [
            "홀홀홀\n"
          ],
          "name": "stdout"
        }
      ]
    },
    {
      "cell_type": "markdown",
      "metadata": {
        "id": "tI3BWxSnbNOG"
      },
      "source": [
        "24. 문자열을 거꾸로 뒤집어 출력하세요.  \n",
        ": string = \"PYTHON\" (실행 예: NOHTYP)"
      ]
    },
    {
      "cell_type": "code",
      "metadata": {
        "id": "2vrfJarUbtAH",
        "outputId": "ac8b281f-5c76-4520-c294-bd65be2c2ab1",
        "colab": {
          "base_uri": "https://localhost:8080/"
        }
      },
      "source": [
        "string = \"PYTHON\"\n",
        "print(string[::-1])"
      ],
      "execution_count": 55,
      "outputs": [
        {
          "output_type": "stream",
          "text": [
            "NOHTYP\n"
          ],
          "name": "stdout"
        }
      ]
    },
    {
      "cell_type": "markdown",
      "metadata": {
        "id": "xjD7OVyTckS0"
      },
      "source": [
        "25. 아래의 전화번호에서 하이푼 ('-')을 제거하고 출력하세요.  \n",
        ": phone_number = \"010-1111-2222\" (실행 예: 010 1111 2222)"
      ]
    },
    {
      "cell_type": "code",
      "metadata": {
        "id": "zP_7VCbCckk6",
        "outputId": "3d9d6d84-c4e3-4309-8f2b-85e80557bed2",
        "colab": {
          "base_uri": "https://localhost:8080/"
        }
      },
      "source": [
        "phone_number = \"010-1111-2222\"\n",
        "phone_number1 = phone_number.replace(\"-\", \" \")\n",
        "print(phone_number1)"
      ],
      "execution_count": 58,
      "outputs": [
        {
          "output_type": "stream",
          "text": [
            "010 1111 2222\n"
          ],
          "name": "stdout"
        }
      ]
    },
    {
      "cell_type": "markdown",
      "metadata": {
        "id": "GlXs35DEdLTC"
      },
      "source": [
        "26. 25번 문제의 전화번호를 아래와 같이 모두 붙여 출력하세요. (실행 예:01011112222)"
      ]
    },
    {
      "cell_type": "code",
      "metadata": {
        "id": "lV2C7IjzdLo6",
        "outputId": "101dfd5d-4249-4da8-fe1a-3ae014c517f2",
        "colab": {
          "base_uri": "https://localhost:8080/"
        }
      },
      "source": [
        "phone_number2 = phone_number.replace(\"-\", \"\")\n",
        "print(phone_number2)"
      ],
      "execution_count": 59,
      "outputs": [
        {
          "output_type": "stream",
          "text": [
            "01011112222\n"
          ],
          "name": "stdout"
        }
      ]
    },
    {
      "cell_type": "markdown",
      "metadata": {
        "id": "ODbcRa5jdi-q"
      },
      "source": [
        "27. url 에 저장된 웹 페이지 주소에서 도메인을 출력하세요.  \n",
        ": url = \"http://sharebook.kr\" (실행 예: kr)"
      ]
    },
    {
      "cell_type": "code",
      "metadata": {
        "id": "B6hEXqGJdjKJ",
        "outputId": "738bdcf8-53eb-4cf5-b661-f9bce778b351",
        "colab": {
          "base_uri": "https://localhost:8080/"
        }
      },
      "source": [
        "url = \"http://sharebook.kr\"\n",
        "print(url[17:])\n",
        "print(url[-2:])\n",
        "url_split = url.split('.')\n",
        "print(url_split)\n",
        "print(url_split[1])\n",
        "url_split2 = url.split(':')\n",
        "print(url_split2)"
      ],
      "execution_count": 66,
      "outputs": [
        {
          "output_type": "stream",
          "text": [
            "kr\n",
            "kr\n",
            "['http://sharebook', 'kr']\n",
            "kr\n",
            "['http', '//sharebook.kr']\n"
          ],
          "name": "stdout"
        }
      ]
    },
    {
      "cell_type": "markdown",
      "metadata": {
        "id": "IHw6Ks9le7tR"
      },
      "source": [
        "28. 아래 코드의 실행 결과를 예상해보세요.  \n",
        ": lang = 'python'  \n",
        ": lang[0] = 'P'  \n",
        ": print(lang)"
      ]
    },
    {
      "cell_type": "code",
      "metadata": {
        "id": "quQVxTDie764",
        "outputId": "2a03a9a4-6de4-4ea8-d460-250f89f520bf",
        "colab": {
          "base_uri": "https://localhost:8080/"
        }
      },
      "source": [
        "lang = 'python'\n",
        "# lang[0] = P # lang의 0번째 위치는 p인데 P로 바꾸라고 명령하는건 실행되지 않는다. 문자열은 변경되지 않는다.\n",
        "print(lang[0])\n",
        "print(lang)"
      ],
      "execution_count": 72,
      "outputs": [
        {
          "output_type": "stream",
          "text": [
            "p\n",
            "python\n"
          ],
          "name": "stdout"
        }
      ]
    },
    {
      "cell_type": "markdown",
      "metadata": {
        "id": "VD2krPMgfr39"
      },
      "source": [
        "29. 아래 문자열에서 소문자 'a'를 대문자 'A'로 변경하세요.  \n",
        ": string = 'abcdfe2a354a32a' (실행 예: Abcdfe2A354A32A)"
      ]
    },
    {
      "cell_type": "code",
      "metadata": {
        "id": "oEOy42LnfsDt",
        "outputId": "df84a08b-e805-492d-b94a-d0935220dfc4",
        "colab": {
          "base_uri": "https://localhost:8080/"
        }
      },
      "source": [
        "string = 'abcdfe2a354a32a'\n",
        "string1 = string.replace(\"a\", \"A\")\n",
        "print(string1)"
      ],
      "execution_count": 74,
      "outputs": [
        {
          "output_type": "stream",
          "text": [
            "Abcdfe2A354A32A\n"
          ],
          "name": "stdout"
        }
      ]
    },
    {
      "cell_type": "markdown",
      "metadata": {
        "id": "GrNlqlv9gTdx"
      },
      "source": [
        "30. 아래 코드의 실행 결과를 예상해보세요.  \n",
        ": string = 'abcd'  \n",
        ": string.replace('b', 'B')  \n",
        ": print(string)"
      ]
    },
    {
      "cell_type": "code",
      "metadata": {
        "id": "MSOcqBt2gTtI",
        "outputId": "58c45111-bc26-4937-bd5f-20f797d21ad6",
        "colab": {
          "base_uri": "https://localhost:8080/"
        }
      },
      "source": [
        "string = 'abcd' # 자료형 문자열\n",
        "string.replace('b', 'B') # replace한다는 걸 새로운 항목에 바인딩 해주지 않았기 때문에 결과는 abcd로 그대로 출력된다.\n",
        "print(string)\n",
        "string1 = string.replace('b', 'B')\n",
        "print(string1)"
      ],
      "execution_count": 77,
      "outputs": [
        {
          "output_type": "stream",
          "text": [
            "abcd\n",
            "aBcd\n"
          ],
          "name": "stdout"
        }
      ]
    },
    {
      "cell_type": "markdown",
      "metadata": {
        "id": "PR_rhY1Qj27S"
      },
      "source": [
        "31. 아래 코드의 실행 결과를 예상해보세요.  \n",
        ": a = \"3\", b = \"4\"  \n",
        ": print(a + b)"
      ]
    },
    {
      "cell_type": "code",
      "metadata": {
        "id": "4UurFLcXkFnS",
        "outputId": "e1321230-81b7-4cd8-f6fc-ab1a465ed8be",
        "colab": {
          "base_uri": "https://localhost:8080/"
        }
      },
      "source": [
        "a = \"3\" # 문자열, \"\", ''는 문자열을 만드는 기호이다. 문자열은 고정이 되어버리면 변경불가\n",
        "b = \"4\"\n",
        "print(a + b)"
      ],
      "execution_count": 81,
      "outputs": [
        {
          "output_type": "stream",
          "text": [
            "34\n"
          ],
          "name": "stdout"
        }
      ]
    },
    {
      "cell_type": "markdown",
      "metadata": {
        "id": "0mz_lwWmntx1"
      },
      "source": [
        "32. 아래 코드의 실행 결과를 예상해보세요.  \n",
        ": print(\"Hi\" * 3)\n",
        "\n",
        "33. 화면에 '-'를 80개 출력하세요. (실행 예: --------------------------------------------------------------------------------)\n",
        "\n",
        "34. 변수에 다음과 같은 문자열이 바인딩되어 있습니다.  \n",
        ": t1 = 'python', t2 = 'java'  \n",
        "변수에 문자열 더하기와 문자열 곱하기를 사용해서 아래와 같이 출력해보세요.  \n",
        "(실행 예: python java python java python java python java)"
      ]
    },
    {
      "cell_type": "code",
      "metadata": {
        "id": "i5U-fLjcnuF7",
        "outputId": "674e3b1d-e9f6-4f3d-cd57-9bea698d546d",
        "colab": {
          "base_uri": "https://localhost:8080/"
        }
      },
      "source": [
        "print(\"Hi\" * 3)\n",
        "print(\"-\" * 80)\n",
        "t1 = 'python'\n",
        "t2 = 'java'\n",
        "t3 = t1 + ' ' + t2 + ' '\n",
        "print((t1 + ' ' + t2 + ' ') * 4) # 방법은 다양하게 있고 최대한 효율적으로 사용할 수 있도록 하자, 좀 더 쉽게 간단한 코드를 이용해서\n",
        "print(t3 * 4)\n",
        "print(t1, t2, t1, t2, t1, t2, t1, t2, sep = ' ')"
      ],
      "execution_count": 89,
      "outputs": [
        {
          "output_type": "stream",
          "text": [
            "HiHiHi\n",
            "--------------------------------------------------------------------------------\n",
            "python java python java python java python java \n",
            "python java python java python java python java \n",
            "python java python java python java python java\n"
          ],
          "name": "stdout"
        }
      ]
    }
  ]
}