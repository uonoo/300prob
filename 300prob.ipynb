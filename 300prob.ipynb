{
  "nbformat": 4,
  "nbformat_minor": 0,
  "metadata": {
    "colab": {
      "name": "300prob.ipynb",
      "provenance": [],
      "authorship_tag": "ABX9TyOaH7WrUNAOcEi0BBihlsxk",
      "include_colab_link": true
    },
    "kernelspec": {
      "name": "python3",
      "display_name": "Python 3"
    }
  },
  "cells": [
    {
      "cell_type": "markdown",
      "metadata": {
        "id": "view-in-github",
        "colab_type": "text"
      },
      "source": [
        "<a href=\"https://colab.research.google.com/github/uonoo/300prob/blob/main/300prob.ipynb\" target=\"_parent\"><img src=\"https://colab.research.google.com/assets/colab-badge.svg\" alt=\"Open In Colab\"/></a>"
      ]
    },
    {
      "cell_type": "markdown",
      "metadata": {
        "id": "yxOmLLBdApvE"
      },
      "source": [
        "# 1 ~ 10\n",
        "\n"
      ]
    },
    {
      "cell_type": "markdown",
      "metadata": {
        "id": "X3Ac6T3Z-UJ5"
      },
      "source": [
        "1. 화면에 Hello World 문자열을 출력하세요.\n",
        "2. 화면에 Mary's cosmetics을 출력하세요. (중간에 '가 있음에 주의하세요)\n",
        "3. 화면에 아래 문장을 출력하세요. (중간에 \"가 있음에 주의하세요.)  \n",
        ": 신씨가 소리질렀다. \"도둑이야\".\n",
        "4. 화면에 \"C:\\Windows\"를 출력하세요.\n",
        "5. 다음 코드를 실행해보고 \\t와 \\n의 역할을 설명해보세요.  \n",
        ": print(\"안녕하세요.\\n만나서\\t\\t반갑습니다.\")\n",
        "6. print 함수에 두 개의 단어를 입력한 예제입니다. 아래 코드의 출력 결과를 예상해봅시다.  \n",
        ": print (\"오늘은\", \"일요일\")\n",
        "7. print() 함수를 사용하여 다음과 같이 출력하세요.  \n",
        ": naver;kakao;sk;samsung\n",
        "8. print() 함수를 사용하여 다음과 같이 출력하세요.  \n",
        ": naver/kakao/sk/samsung\n",
        "9. 다음 코드를 수정하여 줄바꿈이 없이 출력하세요. (힌트: end='') print 함수는 두 번 사용합니다. 세미콜론 (;)은 한줄에 여러 개의 명령을 작성하기 위해 사용합니다.  \n",
        ": print(\"first\");print(\"second\")\n",
        "10. 5/3의 결과를 화면에 출력하세요."
      ]
    },
    {
      "cell_type": "code",
      "metadata": {
        "id": "CrzH7-B7A2qw",
        "outputId": "a3b8ec29-9fa6-4218-f3dc-5e7429b5b054",
        "colab": {
          "base_uri": "https://localhost:8080/"
        }
      },
      "source": [
        "print(\"Hello World\")\n",
        "print('Hello World')\n",
        "print(\"Mary's cosmetics\")\n",
        "print(\"C:\\Windows\")\n",
        "print(\"안녕하세요.\\n만나서\\t\\t반갑습니다\") #\\n은 줄 넘기기, \\t는 탭키\n",
        "print(\"오늘은\", \"일요일\")\n",
        "print(\"naver\", \"kakao\", \"sk\", \"samsung\", sep = \";\")\n",
        "print(\"naver\", \"kakao\", \"sk\", \"samsung\", sep = \"/\")\n",
        "print(\"first\", end = \"\"); print(\"second\")\n",
        "print(5/3)"
      ],
      "execution_count": 6,
      "outputs": [
        {
          "output_type": "stream",
          "text": [
            "Hello World\n",
            "Hello World\n",
            "Mary's cosmetics\n",
            "C:\\Windows\n",
            "안녕하세요.\n",
            "만나서\t\t반갑습니다\n",
            "오늘은 일요일\n",
            "naver;kakao;sk;samsung\n",
            "naver/kakao/sk/samsung\n",
            "firstsecond\n",
            "1.6666666666666667\n"
          ],
          "name": "stdout"
        }
      ]
    },
    {
      "cell_type": "markdown",
      "metadata": {
        "id": "npZaDg8zFfR3"
      },
      "source": [
        "#11 ~ 20"
      ]
    },
    {
      "cell_type": "markdown",
      "metadata": {
        "id": "ByesHBNMFiIh"
      },
      "source": [
        "11. 삼성전자라는 변수로 50,000원을 바인딩해보세요. 삼성전자 주식 10주를 보유하고 있을 때 총 평가금액을 출력하세요.\n",
        "12. 다음 표는 삼성전자의 일부 투자정보입니다. 변수를 사용해서 시가총액, 현재가, PER 등을 바인딩해보세요.  \n",
        "항목 값  \n",
        "시가총액\t298조  \n",
        "현재가\t50,000원  \n",
        "PER\t15.79\n",
        "13. 변수 s와 t에는 각각 문자열이 바인딩 되어있습니다.  \n",
        "s = \"hello\", t = \"python\"  \n",
        "두 변수를 이용하여 아래와 같이 출력해보세요.  \n",
        "실행 예: hello! python\n",
        "14. 아래 코드의 실행 결과를 예상해보세요.  \n",
        ": 2 + 2 * 3 \n",
        "15. type() 함수는 데이터 타입을 판별합니다. 변수 a에는 128 숫자가 바인딩돼 있어 type 함수가 int (정수)형임을 알려줍니다.  \n",
        ": a = 128  \n",
        ": print (type(a))  \n",
        "<class 'int'>\n",
        "아래 변수에 바인딩된 값의 타입을 판별해보세요.  \n",
        ": a = \"132\"\n",
        "16. 문자열 '720'를 정수형으로 변환해보세요.  \n",
        ": num_str = \"720\"\n",
        "17. 정수 100을 문자열 '100'으로 변환해보세요.  \n",
        ": num = 100\n",
        "18. 문자열 \"15.79\"를 실수(float) 타입으로 변환해보세요.\n",
        "19. year라는 변수가 문자열 타입의 연도를 바인딩하고 있습니다. 이를 정수로 변환한 후 최근 3년의 연도를 화면에 출력해보세요.  \n",
        ": year = \"2020\"\n",
        "20. 에이컨이 월 48,584원에 무이자 36개월의 조건으로 홈쇼핑에서 판매되고 있습니다. 총 금액은 계산한 후 이를 화면에 출력해보세요. (변수사용하기)"
      ]
    },
    {
      "cell_type": "code",
      "metadata": {
        "id": "kTCgnWj--To7",
        "outputId": "4255b6f7-0e6c-46cd-dd1b-7f20078b1d23",
        "colab": {
          "base_uri": "https://localhost:8080/"
        }
      },
      "source": [
        "삼성전자 = 50000 # 바인딩\n",
        "총평가금액 = 삼성전자 * 10 # 바인딩\n",
        "print(총평가금액)\n",
        "시가총액 = 298000000000000 # 바인딩\n",
        "현재가 = 50000 # 바인딩\n",
        "PER = 15.79 # 바인딩\n",
        "print(시가총액, type(시가총액))\n",
        "print(현재가, type(50000))\n",
        "print(PER, type(PER))\n",
        "s = \"hello\"\n",
        "t = \"python\" # 바인딩 할 때는 한 열에 하나씩\n",
        "print(s + \"!\", t) \n",
        "print(2 + 2 * 3) # 계산\n",
        "a = 128\n",
        "print(type(a)) # 타입 표현\n",
        "a = 132\n",
        "print(type(a))\n",
        "num_str = 720\n",
        "num_int = int(num_str) # 정수, 실수, 문자열 변환 int(내용)\n",
        "print(num_int, type(num_int))\n",
        "num = 100\n",
        "result = str(num)\n",
        "print(type(result))\n",
        "data = \"15.79\"\n",
        "data = float(data)\n",
        "print(data, type(data))\n",
        "year = \"2020\"\n",
        "print(int(year) - 3)\n",
        "print(int(year) - 2)\n",
        "print(int(year) - 1)\n",
        "aircon = 48584\n",
        "총금액 = aircon * 36\n",
        "print(총금액)"
      ],
      "execution_count": 38,
      "outputs": [
        {
          "output_type": "stream",
          "text": [
            "500000\n",
            "298000000000000 <class 'int'>\n",
            "50000 <class 'int'>\n",
            "15.79 <class 'float'>\n",
            "hello! python\n",
            "8\n",
            "<class 'int'>\n",
            "<class 'int'>\n",
            "720 <class 'int'>\n",
            "<class 'str'>\n",
            "15.79 <class 'float'>\n",
            "2017\n",
            "2018\n",
            "2019\n",
            "1749024\n"
          ],
          "name": "stdout"
        }
      ]
    },
    {
      "cell_type": "markdown",
      "metadata": {
        "id": "ZOB07OjrSz1F"
      },
      "source": [
        ""
      ]
    }
  ]
}